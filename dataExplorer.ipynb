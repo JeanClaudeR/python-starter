{
 "cells": [
  {
   "cell_type": "markdown",
   "metadata": {},
   "source": [
    "# Basic data exploration in Python"
   ]
  },
  {
   "cell_type": "markdown",
   "metadata": {},
   "source": [
    "## Preamble : loading the relevant libraries\n",
    "* When you progress in programming, you'll see that the phrase \"Do not reinvent the wheel\" saves you time ! \n",
    "\n",
    "* PLUS Python is known as a language with \"batteries included\"\n",
    "\n",
    "### Data analysis ![Pandas](/pandas_small.png)\n",
    "* For data analysis, the reference library is Pandas\n",
    "\n",
    "* We will explore some functionalities (though this is a library with LOTS of functionalities). More here : [Pandas](https://pandas.pydata.org/docs/index.html)\n",
    "\n",
    "###  Interactive visualisations ![Plotly](../resources/plotly_graphing_libraries_1.png)\n",
    "* We will favor Plotly for interactive visualisation though it can be hard to use for beginners, when they start.\n",
    "\n",
    "* Plotly share some similarities with R's ggplot2, especially the Plotly Express module.\n",
    "\n",
    "* Plotly can be used with Python, R, Javascript. Plotly is well documented, see here : [Plotly for Python](https://plotly.com/python/)\n"
   ]
  },
  {
   "cell_type": "code",
   "execution_count": null,
   "metadata": {},
   "outputs": [],
   "source": [
    "import pandas as pd\n",
    "import plotly.express as px"
   ]
  },
  {
   "cell_type": "markdown",
   "metadata": {},
   "source": [
    "## Loading data"
   ]
  },
  {
   "cell_type": "markdown",
   "metadata": {},
   "source": [
    "Data can come from *various sources* :\n",
    "- tabular data stored on your computer (e.g a .csv or Excel file)\n",
    "- data stored in Domino Dataset\n",
    "- file that you pull from Internet (advanced)\n",
    "- other\n",
    "\n",
    "Below, we'll see how we can load data stored on file directory and from Domino dataset"
   ]
  },
  {
   "cell_type": "markdown",
   "metadata": {},
   "source": [
    "### SAS database\n",
    "YES !!! You can read data from a SAS database."
   ]
  },
  {
   "cell_type": "code",
   "execution_count": null,
   "metadata": {},
   "outputs": [],
   "source": [
    "# Reading from files\n",
    "SAS_FILE_PATH = '../data/nhefs.sas7bdat'\n",
    "#Reading from Domino Dataset\n",
    "SAS_DATASET = '/domino/datasets/local/NHEFS_SAS/nhefs.sas7bdat'"
   ]
  },
  {
   "cell_type": "code",
   "execution_count": null,
   "metadata": {},
   "outputs": [],
   "source": [
    "df_sas = pd.read_sas(SAS_FILE_PATH, format=None, index=None, encoding=None, chunksize=None, iterator=False)\n",
    "df_sas.info()"
   ]
  },
  {
   "cell_type": "code",
   "execution_count": null,
   "metadata": {},
   "outputs": [],
   "source": [
    "df_sas_dataset = pd.read_sas(SAS_DATASET, format=None, index=None, encoding=None, chunksize=None, iterator=False)\n",
    "df_sas_dataset.info()"
   ]
  },
  {
   "cell_type": "code",
   "execution_count": null,
   "metadata": {},
   "outputs": [],
   "source": [
    "df_sas.head()"
   ]
  },
  {
   "cell_type": "code",
   "execution_count": null,
   "metadata": {},
   "outputs": [],
   "source": [
    "df_sas_dataset.head()"
   ]
  },
  {
   "cell_type": "markdown",
   "metadata": {},
   "source": [
    "### Time series (.csv) stored on your computer"
   ]
  },
  {
   "cell_type": "code",
   "execution_count": null,
   "metadata": {},
   "outputs": [],
   "source": [
    "# Bitcoin data (time series)\n",
    "data_btc = '/domino/datasets/local/Bitcoin_dataset/Bitbay_BTCEUR_d.csv'\n",
    "df_btc = pd.read_csv(data_btc, header=1) # the first line is a header"
   ]
  },
  {
   "cell_type": "code",
   "execution_count": null,
   "metadata": {
    "scrolled": true
   },
   "outputs": [],
   "source": [
    "df_btc.info()"
   ]
  },
  {
   "cell_type": "code",
   "execution_count": null,
   "metadata": {},
   "outputs": [],
   "source": [
    "# df_btc contains time series of Bitcoin/EUR data\n",
    "# Convert the Date into a datetime object\n",
    "df_btc[\"Date\"] = pd.to_datetime(df_btc[\"Date\"])"
   ]
  },
  {
   "cell_type": "code",
   "execution_count": null,
   "metadata": {},
   "outputs": [],
   "source": [
    "df_btc.info()"
   ]
  },
  {
   "cell_type": "code",
   "execution_count": null,
   "metadata": {
    "scrolled": true
   },
   "outputs": [],
   "source": [
    "df_btc.head()"
   ]
  },
  {
   "cell_type": "markdown",
   "metadata": {},
   "source": [
    "## Selecting, filtering"
   ]
  },
  {
   "cell_type": "markdown",
   "metadata": {},
   "source": [
    "### Selecting a few columns"
   ]
  },
  {
   "cell_type": "code",
   "execution_count": null,
   "metadata": {},
   "outputs": [],
   "source": [
    "# Pseudo SQL : select seqn, death, sex, age, pregnancies from df_sas\n",
    "col_selection = ['seqn', 'death', 'sex', 'age', 'pregnancies']\n",
    "df_sas_light = df_sas[col_selection]\n",
    "df_sas_light.head()"
   ]
  },
  {
   "cell_type": "markdown",
   "metadata": {},
   "source": [
    "### Filtering (NHEFS data)"
   ]
  },
  {
   "cell_type": "markdown",
   "metadata": {},
   "source": [
    "#### 1 or more criteria "
   ]
  },
  {
   "cell_type": "code",
   "execution_count": null,
   "metadata": {},
   "outputs": [],
   "source": [
    "# Only women\n",
    "# Pseudo-SQL : select * from df_sas_light where sex = 1\n",
    "df_sas_women = df_sas_light[df_sas[\"sex\"]==1]"
   ]
  },
  {
   "cell_type": "code",
   "execution_count": null,
   "metadata": {
    "scrolled": true
   },
   "outputs": [],
   "source": [
    "df_sas_women.head()"
   ]
  },
  {
   "cell_type": "code",
   "execution_count": null,
   "metadata": {
    "scrolled": true
   },
   "outputs": [],
   "source": [
    "# Only women aged more than 40, from original dataframe\n",
    "# Pseudo-SQL : select * from df_sas where (sex = 1 and age >= 40)\n",
    "df_sas_women_above40 = df_sas_light[(df_sas[\"sex\"]==1)&(df_sas[\"age\"]>=40)]\n",
    "df_sas_women_above40.head()"
   ]
  },
  {
   "cell_type": "markdown",
   "metadata": {},
   "source": [
    "**FURTHER READING**\n",
    "\n",
    "You can have a look at Pandas tutorials to go deeper\n",
    "[Select a subset with Pandas](https://pandas.pydata.org/docs/getting_started/intro_tutorials/03_subset_data.html)"
   ]
  },
  {
   "cell_type": "markdown",
   "metadata": {},
   "source": [
    "## Transforming the data"
   ]
  },
  {
   "cell_type": "code",
   "execution_count": null,
   "metadata": {},
   "outputs": [],
   "source": [
    "# Adding year and month for BTC/EUR data\n",
    "df_btc[\"Year\"] = df_btc[\"Date\"].dt.year\n",
    "df_btc[\"Month\"] = df_btc[\"Date\"].dt.month"
   ]
  },
  {
   "cell_type": "code",
   "execution_count": null,
   "metadata": {
    "scrolled": true
   },
   "outputs": [],
   "source": [
    "# Adding a new column Gender which contains categorical data \n",
    "df_sas[\"gender\"] =  df_sas[\"sex\"].apply(lambda x: \"MALE\" if x ==0 else \"FEMALE\")\n",
    "df_sas[[\"seqn\",\"sex\",\"gender\"]].head()"
   ]
  },
  {
   "cell_type": "markdown",
   "metadata": {},
   "source": [
    "**FURTHER READING**\n",
    "\n",
    "[Add or create new columns](https://pandas.pydata.org/docs/getting_started/intro_tutorials/05_add_columns.html)"
   ]
  },
  {
   "cell_type": "markdown",
   "metadata": {},
   "source": [
    "## Summarising and visualising data"
   ]
  },
  {
   "cell_type": "markdown",
   "metadata": {},
   "source": [
    "### Basic summary statistics"
   ]
  },
  {
   "cell_type": "code",
   "execution_count": null,
   "metadata": {},
   "outputs": [],
   "source": [
    "# First let's select only a few columns\n",
    "col_selection2 = ['seqn', 'death', 'sex', 'age', 'pregnancies','gender' ]\n",
    "df_sas_light2 = df_sas[col_selection2]\n",
    "df_sas_light2.head() "
   ]
  },
  {
   "cell_type": "code",
   "execution_count": null,
   "metadata": {
    "scrolled": true
   },
   "outputs": [],
   "source": [
    "# Pandas native function describe()\n",
    "df_sas_light2.describe(include=\"all\")"
   ]
  },
  {
   "cell_type": "markdown",
   "metadata": {},
   "source": [
    "Note here that we were right to reencode sex as a categorical data via gender\n",
    "\n",
    "Further transformation is needed for death and pregnancies which should be viewed as categorical variables.\n",
    "I leave as an exercise for you to make these transformations "
   ]
  },
  {
   "cell_type": "markdown",
   "metadata": {},
   "source": [
    "**EXERCISE**\n",
    "\n",
    "Further transformation is needed for death and pregnancies which should be viewed as categorical variables.\n",
    "I leave as an exercise for you to make these transformations\n",
    "\n",
    "*HINTS* : \n",
    "- You can have a look at Pandas documentation here [Categorical data](https://pandas.pydata.org/docs/user_guide/categorical.html)\n",
    "\n",
    "- For \"death\" you can do the folowing (see below):"
   ]
  },
  {
   "cell_type": "code",
   "execution_count": null,
   "metadata": {
    "scrolled": false
   },
   "outputs": [],
   "source": [
    "## Hint for death, you can replicate for \"pregnancies\" (a bit complex ?)\n",
    "df_sas_light2[\"survival\"] = df_sas_light2[\"death\"].astype(\"category\") \n",
    "df_sas_light2[\"survival\"] = df_sas_light2[\"survival\"].cat.rename_categories([0,1])\n",
    "df_sas_light2[\"survival\"] = df_sas_light2[\"survival\"].cat.codes"
   ]
  },
  {
   "cell_type": "code",
   "execution_count": null,
   "metadata": {},
   "outputs": [],
   "source": [
    "# Inspect the transformed dataframe\n",
    "df_sas_light2.head() "
   ]
  },
  {
   "cell_type": "code",
   "execution_count": null,
   "metadata": {},
   "outputs": [],
   "source": [
    "# Summary statistics \"by hand\"\n",
    "# Define the statistics according to the data type\n",
    "numerical_metrics = [\"min\", \"max\", \"mean\", \"median\"]\n",
    "\n",
    "stats_numerical = df_sas_light2.agg({\n",
    "    \"age\" : numerical_metrics\n",
    "})\n",
    "stats_numerical"
   ]
  },
  {
   "cell_type": "code",
   "execution_count": null,
   "metadata": {
    "scrolled": true
   },
   "outputs": [],
   "source": [
    "# Summary statistics \"by hand\"\n",
    "# Define the statistics according to the data type\n",
    "categorical_metrics = [\"unique\"]\n",
    "stats_categorical = df_sas_light2.agg({\n",
    "    \"gender\" : categorical_metrics,\n",
    "    \"survival\" : categorical_metrics\n",
    "})\n",
    "stats_categorical"
   ]
  },
  {
   "cell_type": "code",
   "execution_count": null,
   "metadata": {
    "scrolled": true
   },
   "outputs": [],
   "source": [
    "# Summary statistics \"by hand\"\n",
    "# Define the statistics according to the data type\n",
    "df_sas_light2[[\"gender\",\"survival\"]].apply(lambda x: x.value_counts()).T.stack()"
   ]
  },
  {
   "cell_type": "markdown",
   "metadata": {},
   "source": [
    "### Grouping/aggregating to compute statistics"
   ]
  },
  {
   "cell_type": "code",
   "execution_count": null,
   "metadata": {
    "scrolled": false
   },
   "outputs": [],
   "source": [
    "# Group by gender\n",
    "df_grouped = df_sas_light2.groupby([\"gender\"])\n",
    "# Average age per gender\n",
    "df_grouped[\"age\"].mean()\n",
    "# Average age per gender are not so different"
   ]
  },
  {
   "cell_type": "code",
   "execution_count": null,
   "metadata": {},
   "outputs": [],
   "source": [
    "# Group by gender and survival\n",
    "# More statistics on age (per gender, survival)\n",
    "df_grouped = df_sas_light2.groupby([\"gender\",\"survival\"])\n",
    "df_grouped[\"age\"].mean()\n",
    "# Results : as above, survivors or deads whatever their gender have similar average ages"
   ]
  },
  {
   "cell_type": "markdown",
   "metadata": {},
   "source": [
    "**NOTE** \n",
    "\n",
    "- Computing statistics by hand is not easy, neither recommended.\n",
    "\n",
    "- Use as much as possible the existing Pandas functions (see \"Further reading\" below)\n",
    "\n",
    "- We can do more sophisticated aggregations and pivot tables with Pandas\n",
    "\n",
    "**FURTHER READING**\n",
    "\n",
    "[Descriptive statistics](https://pandas.pydata.org/docs/user_guide/basics.html#descriptive-statistics)\n",
    "\n",
    "[Group by (group, split, combine)](https://pandas.pydata.org/docs/user_guide/groupby.html) OR [Comprehensive guide to aggregating, grouping in Pandas](https://pbpython.com/groupby-agg.html)\n",
    "\n",
    "[Reshaping dataframe, pivot tables](https://pandas.pydata.org/docs/user_guide/reshaping.html)"
   ]
  },
  {
   "cell_type": "markdown",
   "metadata": {},
   "source": [
    "### Basic data visualisation"
   ]
  },
  {
   "cell_type": "markdown",
   "metadata": {},
   "source": [
    "##### 1D plots for distributions (histograms, boxplot,..)"
   ]
  },
  {
   "cell_type": "code",
   "execution_count": null,
   "metadata": {
    "scrolled": false
   },
   "outputs": [],
   "source": [
    "df_sas_light2.info()"
   ]
  },
  {
   "cell_type": "code",
   "execution_count": null,
   "metadata": {},
   "outputs": [],
   "source": [
    "df = df_sas_light2\n",
    "# Histogram of ages\n",
    "hist_age = px.histogram(df, x=\"age\")\n",
    "hist_age.show()"
   ]
  },
  {
   "cell_type": "code",
   "execution_count": null,
   "metadata": {
    "scrolled": true
   },
   "outputs": [],
   "source": [
    "df = df_sas_light2\n",
    "# Box plot of ages, depending on gender\n",
    "box_age_gender = px.box(df, y=\"age\", x=\"gender\", color=\"gender\",\n",
    "          hover_data=df.columns)\n",
    "box_age_gender.show()"
   ]
  },
  {
   "cell_type": "markdown",
   "metadata": {},
   "source": [
    "**NOTE** The box plots confirm that the distribution of age do not differ by gender"
   ]
  },
  {
   "cell_type": "markdown",
   "metadata": {},
   "source": [
    "#### Plotting time series data"
   ]
  },
  {
   "cell_type": "code",
   "execution_count": null,
   "metadata": {},
   "outputs": [],
   "source": [
    "# Let's now use Plotly\n",
    "fig = px.line(df_btc, x='Date', y=\"Open\")\n",
    "fig.show()"
   ]
  }
 ],
 "metadata": {
  "kernelspec": {
   "display_name": "Python 3",
   "language": "python",
   "name": "python3"
  },
  "language_info": {
   "codemirror_mode": {
    "name": "ipython",
    "version": 3
   },
   "file_extension": ".py",
   "mimetype": "text/x-python",
   "name": "python",
   "nbconvert_exporter": "python",
   "pygments_lexer": "ipython3",
   "version": "3.8.5"
  }
 },
 "nbformat": 4,
 "nbformat_minor": 2
}